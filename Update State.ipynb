{
 "cells": [
  {
   "cell_type": "code",
   "execution_count": 36,
   "metadata": {},
   "outputs": [],
   "source": [
    "from collections import defaultdict\n",
    "import pprint\n",
    "import re\n",
    "import pandas as pd\n",
    "import numpy as np"
   ]
  },
  {
   "cell_type": "code",
   "execution_count": 37,
   "metadata": {},
   "outputs": [],
   "source": [
    "import xml.etree.ElementTree as ET  # Use cElementTree or lxml if too slow\n",
    "\n",
    "OSM_FILE = \"cambridge.osm\"  # Replace this with your osm file\n",
    "SAMPLE_FILE = \"sample.osm\"\n",
    "\n",
    "k = 5 # Parameter: take every k-th top level element\n",
    "\n",
    "def get_element(osm_file, tags=('node', 'way', 'relation')):\n",
    "    \"\"\"Yield element if it is the right type of tag\n",
    "\n",
    "    Reference:\n",
    "    http://stackoverflow.com/questions/3095434/inserting-newlines-in-xml-file-generated-via-xml-etree-elementtree-in-python\n",
    "    \"\"\"\n",
    "    context = iter(ET.iterparse(osm_file, events=('start', 'end')))\n",
    "    _, root = next(context)\n",
    "    for event, elem in context:\n",
    "        if event == 'end' and elem.tag in tags:\n",
    "            yield elem\n",
    "            root.clear()\n",
    "\n",
    "\n",
    "with open(SAMPLE_FILE, 'wb') as output:\n",
    "    output.write(bytes('<?xml version=\"1.0\" encoding=\"UTF-8\"?>\\n',encoding='utf-8'))\n",
    "    output.write(bytes('<osm>\\n  ',encoding='utf-8'))\n",
    "\n",
    "    # Write every kth top level element\n",
    "    for i, element in enumerate(get_element(OSM_FILE)):\n",
    "        if i % k == 0:\n",
    "            output.write(ET.tostring(element, encoding='utf-8'))\n",
    "\n",
    "    output.write(bytes('</osm>',encoding='utf-8'))"
   ]
  },
  {
   "cell_type": "code",
   "execution_count": 38,
   "metadata": {},
   "outputs": [],
   "source": [
    "OSMFILE = SAMPLE_FILE\n",
    "#state_re = re.compile(r'\\b\\S+\\.?$', re.IGNORECASE)\n",
    "\n",
    "\n",
    "expected = [\"Massachusetts\"]\n",
    "\n",
    "#initial mapping\n",
    "mapping = { \"MA\": \"Massachusetts\",\n",
    "            \"Ma.\": \"Massachusetts\",\n",
    "            \"Mass\":\"Massachusetts\",\n",
    "            }\n",
    "\n",
    "\n",
    "#Create list of mapping keys\n",
    "mapping_keys = []\n",
    "for k,v in mapping.items():\n",
    "    mapping_keys.append(k)\n",
    "\n",
    "\n",
    "def audit_state(state_types, state_name):\n",
    "    if state_name not in expected:\n",
    "        state_types[state_name].add(state_name)\n",
    "    #m = state_re.search(state_name)\n",
    "    #if m:\n",
    "        #state = m.group()\n",
    "        #if state not in expected:\n",
    "            #state_types[state].add(state_name)\n",
    "\n",
    "\n",
    "def is_state(elem):\n",
    "    return (elem.attrib['k'] == \"addr:state\")\n",
    "\n",
    "\n",
    "def audit(osmfile):\n",
    "    osm_file = open(osmfile, \"r\",encoding='utf8')\n",
    "    state_types = defaultdict(set)\n",
    "    for event, elem in ET.iterparse(osm_file,events=(\"start\",)):\n",
    "        if elem.tag == \"node\" or elem.tag == \"way\":\n",
    "            for tag in elem.iter(\"tag\"):\n",
    "                if is_state(tag):\n",
    "                    audit_state(state_types, tag.attrib['v'])\n",
    "    osm_file.close()\n",
    "    return state_types\n",
    "\n",
    "\n",
    "def update_name(name, mapping):\n",
    "    if name in mapping_keys: #If the bad key is in the mapping dictionary, then perform a substitute, otherwise leave as-is\n",
    "        good = mapping[name]\n",
    "        return good\n",
    "    else:\n",
    "        return name\n",
    "        \n",
    "def st_types(file):\n",
    "    st_types = audit(file)\n",
    "    pprint.pprint(dict(st_types))\n",
    "\n",
    "def test_w_update(file):\n",
    "    st_types = audit(file)\n",
    "    pprint.pprint(dict(st_types))\n",
    "    for st_type, ways in st_types.items():\n",
    "        for name in ways:\n",
    "            better_name = update_name(name, mapping)\n",
    "            print(name, \"=>\", better_name)\n"
   ]
  },
  {
   "cell_type": "code",
   "execution_count": 39,
   "metadata": {},
   "outputs": [
    {
     "name": "stdout",
     "output_type": "stream",
     "text": [
      "{'MA': {'MA'}, 'MA- MASSACHUSETTS': {'MA- MASSACHUSETTS'}, 'ma': {'ma'}}\n"
     ]
    }
   ],
   "source": [
    "st_types(SAMPLE_FILE)"
   ]
  },
  {
   "cell_type": "markdown",
   "metadata": {},
   "source": [
    "There is a lack of consistency in state values. Let's fix that!"
   ]
  },
  {
   "cell_type": "code",
   "execution_count": 40,
   "metadata": {},
   "outputs": [],
   "source": [
    "mapping = { \"MA- MASSACHUSETTS\": \"Massachusetts\",\n",
    "            \"MA\": \"Massachusetts\",\n",
    "            \"ma\":\"Massachusetts\",\n",
    "          }\n",
    "\n",
    "mapping_keys = []\n",
    "for k,v in mapping.items():\n",
    "    mapping_keys.append(k)"
   ]
  },
  {
   "cell_type": "code",
   "execution_count": null,
   "metadata": {},
   "outputs": [],
   "source": [
    "def update_state_name(name, mapping):\n",
    "    if name in mapping_keys: #If the bad key is in the mapping dictionary, then perform a substitute, otherwise leave as-is\n",
    "        good = mapping[name]\n",
    "        return good\n",
    "    else:\n",
    "        return name"
   ]
  },
  {
   "cell_type": "code",
   "execution_count": 41,
   "metadata": {},
   "outputs": [
    {
     "name": "stdout",
     "output_type": "stream",
     "text": [
      "{'MA': {'MA'}, 'MA- MASSACHUSETTS': {'MA- MASSACHUSETTS'}, 'ma': {'ma'}}\n",
      "MA => Massachusetts\n",
      "MA- MASSACHUSETTS => Massachusetts\n",
      "ma => Massachusetts\n"
     ]
    }
   ],
   "source": [
    "test_w_update(SAMPLE_FILE)"
   ]
  },
  {
   "cell_type": "markdown",
   "metadata": {},
   "source": [
    "There were few issues with this field, but they have now all been corrected."
   ]
  }
 ],
 "metadata": {
  "kernelspec": {
   "display_name": "Python [conda env:py3]",
   "language": "python",
   "name": "conda-env-py3-py"
  },
  "language_info": {
   "codemirror_mode": {
    "name": "ipython",
    "version": 3
   },
   "file_extension": ".py",
   "mimetype": "text/x-python",
   "name": "python",
   "nbconvert_exporter": "python",
   "pygments_lexer": "ipython3",
   "version": "3.6.3"
  }
 },
 "nbformat": 4,
 "nbformat_minor": 2
}
