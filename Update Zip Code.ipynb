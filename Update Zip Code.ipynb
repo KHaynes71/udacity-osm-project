{
 "cells": [
  {
   "cell_type": "code",
   "execution_count": 2,
   "metadata": {},
   "outputs": [],
   "source": [
    "from collections import defaultdict\n",
    "import pprint\n",
    "import re\n",
    "import pandas as pd\n",
    "import numpy as np"
   ]
  },
  {
   "cell_type": "code",
   "execution_count": 3,
   "metadata": {},
   "outputs": [],
   "source": [
    "import xml.etree.ElementTree as ET  # Use cElementTree or lxml if too slow\n",
    "\n",
    "OSM_FILE = \"cambridge.osm\"  # Replace this with your osm file\n",
    "SAMPLE_FILE = \"sample.osm\"\n",
    "\n",
    "k = 5 # Parameter: take every k-th top level element\n",
    "\n",
    "def get_element(osm_file, tags=('node', 'way', 'relation')):\n",
    "    \"\"\"Yield element if it is the right type of tag\n",
    "\n",
    "    Reference:\n",
    "    http://stackoverflow.com/questions/3095434/inserting-newlines-in-xml-file-generated-via-xml-etree-elementtree-in-python\n",
    "    \"\"\"\n",
    "    context = iter(ET.iterparse(osm_file, events=('start', 'end')))\n",
    "    _, root = next(context)\n",
    "    for event, elem in context:\n",
    "        if event == 'end' and elem.tag in tags:\n",
    "            yield elem\n",
    "            root.clear()\n",
    "\n",
    "\n",
    "with open(SAMPLE_FILE, 'wb') as output:\n",
    "    output.write(bytes('<?xml version=\"1.0\" encoding=\"UTF-8\"?>\\n',encoding='utf-8'))\n",
    "    output.write(bytes('<osm>\\n  ',encoding='utf-8'))\n",
    "\n",
    "    # Write every kth top level element\n",
    "    for i, element in enumerate(get_element(OSM_FILE)):\n",
    "        if i % k == 0:\n",
    "            output.write(ET.tostring(element, encoding='utf-8'))\n",
    "\n",
    "    output.write(bytes('</osm>',encoding='utf-8'))"
   ]
  },
  {
   "cell_type": "code",
   "execution_count": 4,
   "metadata": {},
   "outputs": [],
   "source": [
    "OSMFILE = SAMPLE_FILE\n",
    "\n",
    "\n",
    "expected = [\"02138\", \"02139\", \"02140\", \"02141\", \"02142\", \"02238\"]\n",
    "\n",
    "\n",
    "#Create list of mapping keys\n",
    "mapping_keys = []\n",
    "for k,v in mapping.items():\n",
    "    mapping_keys.append(k)\n",
    "\n",
    "\n",
    "def audit_state(state_types, state_name):\n",
    "    if state_name not in expected:\n",
    "        state_types[state_name].add(state_name)\n",
    "\n",
    "\n",
    "def is_state(elem):\n",
    "    return (elem.attrib['k'] == \"addr:postcode\")\n",
    "\n",
    "\n",
    "def audit(osmfile):\n",
    "    osm_file = open(osmfile, \"r\",encoding='utf8')\n",
    "    state_types = defaultdict(set)\n",
    "    for event, elem in ET.iterparse(osm_file,events=(\"start\",)):\n",
    "        if elem.tag == \"node\" or elem.tag == \"way\":\n",
    "            for tag in elem.iter(\"tag\"):\n",
    "                if is_state(tag):\n",
    "                    audit_state(state_types, tag.attrib['v'])\n",
    "    osm_file.close()\n",
    "    return state_types\n",
    "\n",
    "\n",
    "def update_name(name, mapping):\n",
    "    if name in mapping_keys: #If the bad key is in the mapping dictionary, then perform a substitute, otherwise leave as-is\n",
    "        good = mapping[name]\n",
    "        return good\n",
    "    else:\n",
    "        return name\n",
    "        \n",
    "def st_types(file):\n",
    "    st_types = audit(file)\n",
    "    pprint.pprint(dict(st_types))\n",
    "\n",
    "def test_w_update(file):\n",
    "    st_types = audit(file)\n",
    "    pprint.pprint(dict(st_types))\n",
    "    for st_type, ways in st_types.items():\n",
    "        for name in ways:\n",
    "            better_name = update_name(name, mapping)\n",
    "            print(name, \"=>\", better_name)\n"
   ]
  },
  {
   "cell_type": "code",
   "execution_count": 5,
   "metadata": {},
   "outputs": [
    {
     "name": "stdout",
     "output_type": "stream",
     "text": [
      "{'01944': {'01944'},\n",
      " '02108': {'02108'},\n",
      " '02109': {'02109'},\n",
      " '02110': {'02110'},\n",
      " '02110-1301': {'02110-1301'},\n",
      " '02111': {'02111'},\n",
      " '02114': {'02114'},\n",
      " '02115': {'02115'},\n",
      " '02116': {'02116'},\n",
      " '02118': {'02118'},\n",
      " '02128': {'02128'},\n",
      " '02129': {'02129'},\n",
      " '02134': {'02134'},\n",
      " '02134-1305': {'02134-1305'},\n",
      " '02134-1306': {'02134-1306'},\n",
      " '02134-1307': {'02134-1307'},\n",
      " '02134-1316': {'02134-1316'},\n",
      " '02134-1317': {'02134-1317'},\n",
      " '02134-1318': {'02134-1318'},\n",
      " '02134-1319': {'02134-1319'},\n",
      " '02134-1321': {'02134-1321'},\n",
      " '02134-1433': {'02134-1433'},\n",
      " '02134-1442': {'02134-1442'},\n",
      " '02135': {'02135'},\n",
      " '02138-2903': {'02138-2903'},\n",
      " '02143': {'02143'},\n",
      " '02144': {'02144'},\n",
      " '02145': {'02145'},\n",
      " '02149': {'02149'},\n",
      " '02155': {'02155'},\n",
      " '02215': {'02215'},\n",
      " '02446': {'02446'},\n",
      " '02472': {'02472'},\n",
      " '02474': {'02474'},\n",
      " '02478': {'02478'}}\n"
     ]
    }
   ],
   "source": [
    "st_types(SAMPLE_FILE)"
   ]
  },
  {
   "cell_type": "markdown",
   "metadata": {},
   "source": [
    "The interesting thing here is that there are many zip codes that are not actually in Cambridge. For example, I know 02108 is in Boston proper (I used to live there). However, reflecting on the XML file I downloaded from Mapzen, I recall that it wasn't exclusively Cambridge. Instead, it was a rectangular area that encompassed Cambridge as well as some areas in Boston. I'll need to add Boston zip codes to the expected list to account for that."
   ]
  },
  {
   "cell_type": "code",
   "execution_count": 8,
   "metadata": {},
   "outputs": [],
   "source": [
    "expected =  ['02118',\n",
    "    '02119',\n",
    "    '02120',\n",
    "    '02130',\n",
    "    '02134',\n",
    "    '02135',\n",
    "    '02445',\n",
    "    '02446',\n",
    "    '02447',\n",
    "    '02467',\n",
    "    '02108',\n",
    "    '02114',\n",
    "    '02115',\n",
    "    '02116',\n",
    "    '02215',\n",
    "    '02128',\n",
    "    '02129',\n",
    "    '02150',\n",
    "    '02151',\n",
    "    '02152',\n",
    "    '02124',\n",
    "    '02126',\n",
    "    '02131',\n",
    "    '02132',\n",
    "    '02136',\n",
    "    '02109',\n",
    "    '02110',\n",
    "    '02111',\n",
    "    '02113',\n",
    "    '02121',\n",
    "    '02122',\n",
    "    '02124',\n",
    "    '02125',\n",
    "    '02127',\n",
    "    '02210',\n",
    "    '02138',\n",
    "    '02139',\n",
    "    '02140',\n",
    "    '02141',\n",
    "    '02142',\n",
    "    '02238']"
   ]
  },
  {
   "cell_type": "markdown",
   "metadata": {},
   "source": [
    "Let's try running that again to see if there are any unexpected zip codes now."
   ]
  },
  {
   "cell_type": "code",
   "execution_count": 9,
   "metadata": {},
   "outputs": [
    {
     "name": "stdout",
     "output_type": "stream",
     "text": [
      "{'01944': {'01944'},\n",
      " '02110-1301': {'02110-1301'},\n",
      " '02134-1305': {'02134-1305'},\n",
      " '02134-1306': {'02134-1306'},\n",
      " '02134-1307': {'02134-1307'},\n",
      " '02134-1316': {'02134-1316'},\n",
      " '02134-1317': {'02134-1317'},\n",
      " '02134-1318': {'02134-1318'},\n",
      " '02134-1319': {'02134-1319'},\n",
      " '02134-1321': {'02134-1321'},\n",
      " '02134-1433': {'02134-1433'},\n",
      " '02134-1442': {'02134-1442'},\n",
      " '02138-2903': {'02138-2903'},\n",
      " '02143': {'02143'},\n",
      " '02144': {'02144'},\n",
      " '02145': {'02145'},\n",
      " '02149': {'02149'},\n",
      " '02155': {'02155'},\n",
      " '02472': {'02472'},\n",
      " '02474': {'02474'},\n",
      " '02478': {'02478'}}\n"
     ]
    }
   ],
   "source": [
    "st_types(SAMPLE_FILE)"
   ]
  },
  {
   "cell_type": "markdown",
   "metadata": {},
   "source": [
    "We have two majors types of issues: (2) nine-digit zip codes, and (2) five-digit zip codes that were not part of our list. For (1) we need to update our function to handle this special case, and extract only the first five digits. "
   ]
  },
  {
   "cell_type": "code",
   "execution_count": 26,
   "metadata": {},
   "outputs": [],
   "source": [
    "def update_name(name, mapping):\n",
    "    if len(name) == 10: #If the zip is 9-digit format, take the left-most five digits\n",
    "        return name[0:5]\n",
    "    else:\n",
    "        return name"
   ]
  },
  {
   "cell_type": "markdown",
   "metadata": {},
   "source": [
    "Now that we've taken care of 9-digit zip codes, we need to see what's going on with a few of the other zip codes that aren't in our list. I'm not sure if all of the towns represented are part of the Great Boston area. We can check that by looking at a list of the cities that are represented in the list. "
   ]
  },
  {
   "cell_type": "code",
   "execution_count": 51,
   "metadata": {},
   "outputs": [
    {
     "name": "stdout",
     "output_type": "stream",
     "text": [
      "defaultdict(<class 'int'>, {'Boston': 162, 'Cambridge': 117, '2067 Massachusetts Avenue': 1, 'Somerville': 54, 'boston': 1, 'Brighton': 4, 'Watertown': 3, 'Watertown, MA': 1, 'Arlington': 33, 'Allston': 9, 'Charlestown': 4, 'Everett': 2, 'Medford': 4, 'Arlington, MA': 1, 'Belmont': 2, 'Cambridge, Massachusetts': 1, 'Boston, MA': 1, 'Brookline': 1})\n"
     ]
    }
   ],
   "source": [
    "cities_dict = defaultdict(int)\n",
    "for event, elem in ET.iterparse(SAMPLE_FILE,events=(\"start\",)):\n",
    "    if elem.tag == \"node\" or elem.tag == \"way\":\n",
    "        for tag in elem.iter(\"tag\"):\n",
    "            if tag.attrib['k'] == \"addr:city\":\n",
    "                cities_dict[tag.attrib['v']] += 1 #Create a dictionary of city names included in \n",
    "print(cities_dict)"
   ]
  },
  {
   "cell_type": "markdown",
   "metadata": {},
   "source": [
    "It looks like all of the cities represented are cities that could be called part of \"Greater Boston,\" so let's keep them. "
   ]
  },
  {
   "cell_type": "code",
   "execution_count": 54,
   "metadata": {},
   "outputs": [],
   "source": [
    "def update_zip(name, mapping):\n",
    "    elif len(name) == 10: #If the zip is 9-digit format, take the left-most five digits\n",
    "        return name[0:5]\n",
    "    else:\n",
    "        return name"
   ]
  }
 ],
 "metadata": {
  "kernelspec": {
   "display_name": "Python [conda env:py3]",
   "language": "python",
   "name": "conda-env-py3-py"
  },
  "language_info": {
   "codemirror_mode": {
    "name": "ipython",
    "version": 3
   },
   "file_extension": ".py",
   "mimetype": "text/x-python",
   "name": "python",
   "nbconvert_exporter": "python",
   "pygments_lexer": "ipython3",
   "version": "3.6.3"
  }
 },
 "nbformat": 4,
 "nbformat_minor": 2
}
